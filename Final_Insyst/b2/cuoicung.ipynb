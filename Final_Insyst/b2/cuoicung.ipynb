{
 "cells": [
  {
   "cell_type": "code",
   "execution_count": 1,
   "id": "ca8f7419-98cf-47bc-a4f8-cd6de5bbd785",
   "metadata": {
    "editable": true,
    "slideshow": {
     "slide_type": ""
    },
    "tags": []
   },
   "outputs": [
    {
     "name": "stdout",
     "output_type": "stream",
     "text": [
      "(1000, 3)\n",
      "(1000,)\n"
     ]
    }
   ],
   "source": [
    "import numpy as np\n",
    "import pandas as pd\n",
    "from sklearn.model_selection import train_test_split\n",
    "from sklearn.preprocessing import LabelEncoder\n",
    "from tensorflow.keras.utils import to_categorical\n",
    "\n",
    "# Tạo điểm thành phần cho Môn 1 và Môn 2 với 4 thành phần và trọng số khác nhau\n",
    "def generate_scores(num_students, weights):\n",
    "    scores = np.random.uniform(0, 10, (num_students, 4))  # Điểm ngẫu nhiên từ 0 đến 10\n",
    "    total_scores = np.dot(scores, weights) / 100\n",
    "    return scores, total_scores\n",
    "\n",
    "# Trọng số cho Môn 1 và Môn 2\n",
    "weights_mon1 = [10, 10, 20, 60]\n",
    "weights_mon2 = [10, 20, 20, 50]\n",
    "\n",
    "# Sinh dữ liệu\n",
    "scores_mon1, total_scores_mon1 = generate_scores(500, weights_mon1)\n",
    "scores_mon2, total_scores_mon2 = generate_scores(500, weights_mon2)\n",
    "\n",
    "# Gộp dữ liệu của cả hai môn học\n",
    "scores = np.vstack([scores_mon1, scores_mon2])\n",
    "# print(scores)\n",
    "total_scores = np.concatenate([total_scores_mon1, total_scores_mon2])\n",
    "\n",
    "# Phân loại điểm theo thang điểm yêu cầu\n",
    "def classify_grade(score):\n",
    "    if score < 4:\n",
    "        return 'F'\n",
    "    elif 4 <= score < 6:\n",
    "        return 'D'\n",
    "    elif 6 <= score < 6.5:\n",
    "        return 'C'\n",
    "    elif 6.5 <= score < 7:\n",
    "        return 'C+'\n",
    "    elif 7 <= score < 8:\n",
    "        return 'B'\n",
    "    elif 8 <= score < 8.5:\n",
    "        return 'B+'\n",
    "    elif 8.5 <= score < 9:\n",
    "        return 'A'\n",
    "    else:\n",
    "        return 'A+'\n",
    "\n",
    "grades = np.array([classify_grade(score) for score in total_scores])\n",
    "# print(grades)\n",
    "\n",
    "# Lấy 3 cột đầu làm X và cột cuối làm y\n",
    "scores = np.round(scores, 2)\n",
    "\n",
    "X = scores[:, :3]\n",
    "print(X.shape)\n",
    "y = scores[:, -1]\n",
    "print(y.shape)\n",
    "\n",
    "X_train, X_test, y_train, y_test = train_test_split(X, y, test_size=0.2, random_state=42)\n"
   ]
  },
  {
   "cell_type": "code",
   "execution_count": 2,
   "id": "77ca0a82-3f72-4028-9189-c4cc517f10e6",
   "metadata": {
    "editable": true,
    "slideshow": {
     "slide_type": ""
    },
    "tags": []
   },
   "outputs": [
    {
     "name": "stderr",
     "output_type": "stream",
     "text": [
      "c:\\Users\\Admin\\AppData\\Local\\Programs\\Python\\Python311\\Lib\\site-packages\\keras\\src\\layers\\core\\dense.py:86: UserWarning: Do not pass an `input_shape`/`input_dim` argument to a layer. When using Sequential models, prefer using an `Input(shape)` object as the first layer in the model instead.\n",
      "  super().__init__(activity_regularizer=activity_regularizer, **kwargs)\n"
     ]
    }
   ],
   "source": [
    "from tensorflow.keras.models import Sequential\n",
    "from tensorflow.keras.layers import Dense, Dropout\n",
    "\n",
    "def create_dnn_model(input_shape):\n",
    "    model = Sequential()\n",
    "    model.add(Dense(100, input_shape=input_shape, activation='relu'))\n",
    "    model.add(Dropout(0.1))\n",
    "    model.add(Dense(100, activation='relu'))\n",
    "    model.add(Dropout(0.1))\n",
    "    model.add(Dense(100, activation='relu'))\n",
    "    model.add(Dropout(0.1))\n",
    "    model.add(Dense(100, activation='relu'))\n",
    "    model.add(Dropout(0.1))\n",
    "    model.add(Dense(100, activation='relu'))\n",
    "    model.add(Dropout(0.1))\n",
    "    model.add(Dense(1))  # Một neuron đầu ra cho dự đoán điểm số liên tục\n",
    "    return model\n",
    "\n",
    "# Tạo và biên dịch mô hình\n",
    "model = create_dnn_model((X_train.shape[1],))\n",
    "model.compile(optimizer='adam', loss='mean_squared_error', metrics=['mae'])\n"
   ]
  },
  {
   "cell_type": "code",
   "execution_count": 3,
   "id": "895673b7-b955-4b17-98d6-8291c2b057d3",
   "metadata": {
    "editable": true,
    "slideshow": {
     "slide_type": ""
    },
    "tags": []
   },
   "outputs": [
    {
     "name": "stdout",
     "output_type": "stream",
     "text": [
      "Epoch 1/30\n",
      "\u001b[1m25/25\u001b[0m \u001b[32m━━━━━━━━━━━━━━━━━━━━\u001b[0m\u001b[37m\u001b[0m \u001b[1m1s\u001b[0m 7ms/step - loss: 18.3925 - mae: 3.5075 - val_loss: 8.5718 - val_mae: 2.4686\n",
      "Epoch 2/30\n",
      "\u001b[1m25/25\u001b[0m \u001b[32m━━━━━━━━━━━━━━━━━━━━\u001b[0m\u001b[37m\u001b[0m \u001b[1m0s\u001b[0m 2ms/step - loss: 9.9271 - mae: 2.6357 - val_loss: 8.2331 - val_mae: 2.4394\n",
      "Epoch 3/30\n",
      "\u001b[1m25/25\u001b[0m \u001b[32m━━━━━━━━━━━━━━━━━━━━\u001b[0m\u001b[37m\u001b[0m \u001b[1m0s\u001b[0m 2ms/step - loss: 10.2051 - mae: 2.6840 - val_loss: 8.2847 - val_mae: 2.4473\n",
      "Epoch 4/30\n",
      "\u001b[1m25/25\u001b[0m \u001b[32m━━━━━━━━━━━━━━━━━━━━\u001b[0m\u001b[37m\u001b[0m \u001b[1m0s\u001b[0m 2ms/step - loss: 9.8094 - mae: 2.6330 - val_loss: 8.2071 - val_mae: 2.4462\n",
      "Epoch 5/30\n",
      "\u001b[1m25/25\u001b[0m \u001b[32m━━━━━━━━━━━━━━━━━━━━\u001b[0m\u001b[37m\u001b[0m \u001b[1m0s\u001b[0m 2ms/step - loss: 10.3902 - mae: 2.7073 - val_loss: 8.1102 - val_mae: 2.4340\n",
      "Epoch 6/30\n",
      "\u001b[1m25/25\u001b[0m \u001b[32m━━━━━━━━━━━━━━━━━━━━\u001b[0m\u001b[37m\u001b[0m \u001b[1m0s\u001b[0m 2ms/step - loss: 10.1711 - mae: 2.7244 - val_loss: 7.9852 - val_mae: 2.4242\n",
      "Epoch 7/30\n",
      "\u001b[1m25/25\u001b[0m \u001b[32m━━━━━━━━━━━━━━━━━━━━\u001b[0m\u001b[37m\u001b[0m \u001b[1m0s\u001b[0m 2ms/step - loss: 9.3154 - mae: 2.5572 - val_loss: 8.1524 - val_mae: 2.4386\n",
      "Epoch 8/30\n",
      "\u001b[1m25/25\u001b[0m \u001b[32m━━━━━━━━━━━━━━━━━━━━\u001b[0m\u001b[37m\u001b[0m \u001b[1m0s\u001b[0m 2ms/step - loss: 9.8305 - mae: 2.6185 - val_loss: 7.8579 - val_mae: 2.4161\n",
      "Epoch 9/30\n",
      "\u001b[1m25/25\u001b[0m \u001b[32m━━━━━━━━━━━━━━━━━━━━\u001b[0m\u001b[37m\u001b[0m \u001b[1m0s\u001b[0m 2ms/step - loss: 9.2925 - mae: 2.5847 - val_loss: 7.9073 - val_mae: 2.4219\n",
      "Epoch 10/30\n",
      "\u001b[1m25/25\u001b[0m \u001b[32m━━━━━━━━━━━━━━━━━━━━\u001b[0m\u001b[37m\u001b[0m \u001b[1m0s\u001b[0m 2ms/step - loss: 9.1135 - mae: 2.5668 - val_loss: 7.6724 - val_mae: 2.4044\n",
      "Epoch 11/30\n",
      "\u001b[1m25/25\u001b[0m \u001b[32m━━━━━━━━━━━━━━━━━━━━\u001b[0m\u001b[37m\u001b[0m \u001b[1m0s\u001b[0m 2ms/step - loss: 9.8825 - mae: 2.6779 - val_loss: 7.9160 - val_mae: 2.4277\n",
      "Epoch 12/30\n",
      "\u001b[1m25/25\u001b[0m \u001b[32m━━━━━━━━━━━━━━━━━━━━\u001b[0m\u001b[37m\u001b[0m \u001b[1m0s\u001b[0m 4ms/step - loss: 9.0417 - mae: 2.5421 - val_loss: 7.6626 - val_mae: 2.4109\n",
      "Epoch 13/30\n",
      "\u001b[1m25/25\u001b[0m \u001b[32m━━━━━━━━━━━━━━━━━━━━\u001b[0m\u001b[37m\u001b[0m \u001b[1m0s\u001b[0m 2ms/step - loss: 9.0094 - mae: 2.5456 - val_loss: 7.8797 - val_mae: 2.4248\n",
      "Epoch 14/30\n",
      "\u001b[1m25/25\u001b[0m \u001b[32m━━━━━━━━━━━━━━━━━━━━\u001b[0m\u001b[37m\u001b[0m \u001b[1m0s\u001b[0m 2ms/step - loss: 8.7709 - mae: 2.5076 - val_loss: 7.6281 - val_mae: 2.4020\n",
      "Epoch 15/30\n",
      "\u001b[1m25/25\u001b[0m \u001b[32m━━━━━━━━━━━━━━━━━━━━\u001b[0m\u001b[37m\u001b[0m \u001b[1m0s\u001b[0m 4ms/step - loss: 8.4288 - mae: 2.4910 - val_loss: 7.6003 - val_mae: 2.3987\n",
      "Epoch 16/30\n",
      "\u001b[1m25/25\u001b[0m \u001b[32m━━━━━━━━━━━━━━━━━━━━\u001b[0m\u001b[37m\u001b[0m \u001b[1m0s\u001b[0m 2ms/step - loss: 8.5216 - mae: 2.5022 - val_loss: 8.7005 - val_mae: 2.4893\n",
      "Epoch 17/30\n",
      "\u001b[1m25/25\u001b[0m \u001b[32m━━━━━━━━━━━━━━━━━━━━\u001b[0m\u001b[37m\u001b[0m \u001b[1m0s\u001b[0m 2ms/step - loss: 9.3257 - mae: 2.6074 - val_loss: 7.4961 - val_mae: 2.3853\n",
      "Epoch 18/30\n",
      "\u001b[1m25/25\u001b[0m \u001b[32m━━━━━━━━━━━━━━━━━━━━\u001b[0m\u001b[37m\u001b[0m \u001b[1m0s\u001b[0m 2ms/step - loss: 9.2098 - mae: 2.6022 - val_loss: 7.4718 - val_mae: 2.3901\n",
      "Epoch 19/30\n",
      "\u001b[1m25/25\u001b[0m \u001b[32m━━━━━━━━━━━━━━━━━━━━\u001b[0m\u001b[37m\u001b[0m \u001b[1m0s\u001b[0m 2ms/step - loss: 8.3234 - mae: 2.4582 - val_loss: 7.6228 - val_mae: 2.4002\n",
      "Epoch 20/30\n",
      "\u001b[1m25/25\u001b[0m \u001b[32m━━━━━━━━━━━━━━━━━━━━\u001b[0m\u001b[37m\u001b[0m \u001b[1m0s\u001b[0m 2ms/step - loss: 8.4159 - mae: 2.4736 - val_loss: 7.5294 - val_mae: 2.3934\n",
      "Epoch 21/30\n",
      "\u001b[1m25/25\u001b[0m \u001b[32m━━━━━━━━━━━━━━━━━━━━\u001b[0m\u001b[37m\u001b[0m \u001b[1m0s\u001b[0m 2ms/step - loss: 8.5917 - mae: 2.5249 - val_loss: 7.5138 - val_mae: 2.3885\n",
      "Epoch 22/30\n",
      "\u001b[1m25/25\u001b[0m \u001b[32m━━━━━━━━━━━━━━━━━━━━\u001b[0m\u001b[37m\u001b[0m \u001b[1m0s\u001b[0m 2ms/step - loss: 8.5992 - mae: 2.5137 - val_loss: 7.7476 - val_mae: 2.4082\n",
      "Epoch 23/30\n",
      "\u001b[1m25/25\u001b[0m \u001b[32m━━━━━━━━━━━━━━━━━━━━\u001b[0m\u001b[37m\u001b[0m \u001b[1m0s\u001b[0m 2ms/step - loss: 8.8324 - mae: 2.5559 - val_loss: 7.8980 - val_mae: 2.4216\n",
      "Epoch 24/30\n",
      "\u001b[1m25/25\u001b[0m \u001b[32m━━━━━━━━━━━━━━━━━━━━\u001b[0m\u001b[37m\u001b[0m \u001b[1m0s\u001b[0m 3ms/step - loss: 8.0809 - mae: 2.4467 - val_loss: 7.5714 - val_mae: 2.3995\n",
      "Epoch 25/30\n",
      "\u001b[1m25/25\u001b[0m \u001b[32m━━━━━━━━━━━━━━━━━━━━\u001b[0m\u001b[37m\u001b[0m \u001b[1m0s\u001b[0m 3ms/step - loss: 8.5077 - mae: 2.5019 - val_loss: 7.4564 - val_mae: 2.3836\n",
      "Epoch 26/30\n",
      "\u001b[1m25/25\u001b[0m \u001b[32m━━━━━━━━━━━━━━━━━━━━\u001b[0m\u001b[37m\u001b[0m \u001b[1m0s\u001b[0m 2ms/step - loss: 8.5986 - mae: 2.5440 - val_loss: 7.8062 - val_mae: 2.4196\n",
      "Epoch 27/30\n",
      "\u001b[1m25/25\u001b[0m \u001b[32m━━━━━━━━━━━━━━━━━━━━\u001b[0m\u001b[37m\u001b[0m \u001b[1m0s\u001b[0m 2ms/step - loss: 8.3654 - mae: 2.5129 - val_loss: 7.5288 - val_mae: 2.3882\n",
      "Epoch 28/30\n",
      "\u001b[1m25/25\u001b[0m \u001b[32m━━━━━━━━━━━━━━━━━━━━\u001b[0m\u001b[37m\u001b[0m \u001b[1m0s\u001b[0m 2ms/step - loss: 8.0128 - mae: 2.4121 - val_loss: 7.5826 - val_mae: 2.3927\n",
      "Epoch 29/30\n",
      "\u001b[1m25/25\u001b[0m \u001b[32m━━━━━━━━━━━━━━━━━━━━\u001b[0m\u001b[37m\u001b[0m \u001b[1m0s\u001b[0m 2ms/step - loss: 8.3423 - mae: 2.4743 - val_loss: 7.5141 - val_mae: 2.3852\n",
      "Epoch 30/30\n",
      "\u001b[1m25/25\u001b[0m \u001b[32m━━━━━━━━━━━━━━━━━━━━\u001b[0m\u001b[37m\u001b[0m \u001b[1m0s\u001b[0m 3ms/step - loss: 8.5703 - mae: 2.5238 - val_loss: 7.6534 - val_mae: 2.4038\n",
      "\u001b[1m7/7\u001b[0m \u001b[32m━━━━━━━━━━━━━━━━━━━━\u001b[0m\u001b[37m\u001b[0m \u001b[1m0s\u001b[0m 947us/step - loss: 7.4838 - mae: 2.3493\n",
      "Test loss: 7.653379440307617, Test MAE: 2.4038236141204834\n"
     ]
    }
   ],
   "source": [
    "# Huấn luyện mô hình\n",
    "model.fit(X_train, y_train, epochs=30, batch_size=32, validation_data=(X_test, y_test))\n",
    "\n",
    "# Đánh giá mô hình\n",
    "loss, mae = model.evaluate(X_test, y_test)\n",
    "print(f\"Test loss: {loss}, Test MAE: {mae}\")\n"
   ]
  },
  {
   "cell_type": "code",
   "execution_count": 4,
   "id": "473aaa05-88ed-49c5-98b7-bba230bae860",
   "metadata": {
    "editable": true,
    "slideshow": {
     "slide_type": ""
    },
    "tags": []
   },
   "outputs": [
    {
     "name": "stdout",
     "output_type": "stream",
     "text": [
      "\u001b[1m1/1\u001b[0m \u001b[32m━━━━━━━━━━━━━━━━━━━━\u001b[0m\u001b[37m\u001b[0m \u001b[1m0s\u001b[0m 58ms/step\n",
      "Predictions:  [[4.7479973]]\n"
     ]
    }
   ],
   "source": [
    "# Dự đoán điểm số\n",
    "prediction = model.predict(np.array([[8,7,9]]))\n",
    "print(\"Predictions: \", prediction)"
   ]
  },
  {
   "cell_type": "code",
   "execution_count": 5,
   "id": "185dac5c-eb0a-464d-b795-834ce5875727",
   "metadata": {
    "editable": true,
    "slideshow": {
     "slide_type": ""
    },
    "tags": []
   },
   "outputs": [
    {
     "name": "stderr",
     "output_type": "stream",
     "text": [
      "WARNING:absl:You are saving your model as an HDF5 file via `model.save()` or `keras.saving.save_model(model)`. This file format is considered legacy. We recommend using instead the native Keras format, e.g. `model.save('my_model.keras')` or `keras.saving.save_model(model, 'my_model.keras')`. \n"
     ]
    }
   ],
   "source": [
    "# Lưu mô hình CNN dưới dạng tệp HDF5 (hoặc SavedModel)\n",
    "model.save('cuoicungdiemthi.h5')"
   ]
  },
  {
   "cell_type": "code",
   "execution_count": 6,
   "id": "9e09df74-3bd8-4ec1-b253-9e35baf38d99",
   "metadata": {
    "editable": true,
    "slideshow": {
     "slide_type": ""
    },
    "tags": []
   },
   "outputs": [
    {
     "name": "stderr",
     "output_type": "stream",
     "text": [
      "c:\\Users\\Admin\\AppData\\Local\\Programs\\Python\\Python311\\Lib\\site-packages\\keras\\src\\layers\\convolutional\\base_conv.py:99: UserWarning: Do not pass an `input_shape`/`input_dim` argument to a layer. When using Sequential models, prefer using an `Input(shape)` object as the first layer in the model instead.\n",
      "  super().__init__(\n"
     ]
    },
    {
     "name": "stdout",
     "output_type": "stream",
     "text": [
      "Epoch 1/30\n",
      "\u001b[1m25/25\u001b[0m \u001b[32m━━━━━━━━━━━━━━━━━━━━\u001b[0m\u001b[37m\u001b[0m \u001b[1m1s\u001b[0m 11ms/step - loss: 19.5133 - mae: 3.7061 - val_loss: 8.5986 - val_mae: 2.4622\n",
      "Epoch 2/30\n",
      "\u001b[1m25/25\u001b[0m \u001b[32m━━━━━━━━━━━━━━━━━━━━\u001b[0m\u001b[37m\u001b[0m \u001b[1m0s\u001b[0m 3ms/step - loss: 10.5488 - mae: 2.7293 - val_loss: 8.7594 - val_mae: 2.4918\n",
      "Epoch 3/30\n",
      "\u001b[1m25/25\u001b[0m \u001b[32m━━━━━━━━━━━━━━━━━━━━\u001b[0m\u001b[37m\u001b[0m \u001b[1m0s\u001b[0m 3ms/step - loss: 10.8150 - mae: 2.7307 - val_loss: 9.0567 - val_mae: 2.5287\n",
      "Epoch 4/30\n",
      "\u001b[1m25/25\u001b[0m \u001b[32m━━━━━━━━━━━━━━━━━━━━\u001b[0m\u001b[37m\u001b[0m \u001b[1m0s\u001b[0m 3ms/step - loss: 10.2281 - mae: 2.6797 - val_loss: 9.4858 - val_mae: 2.5814\n",
      "Epoch 5/30\n",
      "\u001b[1m25/25\u001b[0m \u001b[32m━━━━━━━━━━━━━━━━━━━━\u001b[0m\u001b[37m\u001b[0m \u001b[1m0s\u001b[0m 3ms/step - loss: 10.5109 - mae: 2.7422 - val_loss: 8.7914 - val_mae: 2.5083\n",
      "Epoch 6/30\n",
      "\u001b[1m25/25\u001b[0m \u001b[32m━━━━━━━━━━━━━━━━━━━━\u001b[0m\u001b[37m\u001b[0m \u001b[1m0s\u001b[0m 3ms/step - loss: 9.9632 - mae: 2.6763 - val_loss: 8.7130 - val_mae: 2.5010\n",
      "Epoch 7/30\n",
      "\u001b[1m25/25\u001b[0m \u001b[32m━━━━━━━━━━━━━━━━━━━━\u001b[0m\u001b[37m\u001b[0m \u001b[1m0s\u001b[0m 3ms/step - loss: 9.2744 - mae: 2.5854 - val_loss: 7.8745 - val_mae: 2.4336\n",
      "Epoch 8/30\n",
      "\u001b[1m25/25\u001b[0m \u001b[32m━━━━━━━━━━━━━━━━━━━━\u001b[0m\u001b[37m\u001b[0m \u001b[1m0s\u001b[0m 3ms/step - loss: 8.9425 - mae: 2.5590 - val_loss: 7.9884 - val_mae: 2.4402\n",
      "Epoch 9/30\n",
      "\u001b[1m25/25\u001b[0m \u001b[32m━━━━━━━━━━━━━━━━━━━━\u001b[0m\u001b[37m\u001b[0m \u001b[1m0s\u001b[0m 3ms/step - loss: 9.0529 - mae: 2.5537 - val_loss: 8.9945 - val_mae: 2.5236\n",
      "Epoch 10/30\n",
      "\u001b[1m25/25\u001b[0m \u001b[32m━━━━━━━━━━━━━━━━━━━━\u001b[0m\u001b[37m\u001b[0m \u001b[1m0s\u001b[0m 3ms/step - loss: 8.9972 - mae: 2.5548 - val_loss: 7.6521 - val_mae: 2.4149\n",
      "Epoch 11/30\n",
      "\u001b[1m25/25\u001b[0m \u001b[32m━━━━━━━━━━━━━━━━━━━━\u001b[0m\u001b[37m\u001b[0m \u001b[1m0s\u001b[0m 3ms/step - loss: 8.6031 - mae: 2.5275 - val_loss: 7.6275 - val_mae: 2.4132\n",
      "Epoch 12/30\n",
      "\u001b[1m25/25\u001b[0m \u001b[32m━━━━━━━━━━━━━━━━━━━━\u001b[0m\u001b[37m\u001b[0m \u001b[1m0s\u001b[0m 3ms/step - loss: 8.6850 - mae: 2.5131 - val_loss: 7.6105 - val_mae: 2.4050\n",
      "Epoch 13/30\n",
      "\u001b[1m25/25\u001b[0m \u001b[32m━━━━━━━━━━━━━━━━━━━━\u001b[0m\u001b[37m\u001b[0m \u001b[1m0s\u001b[0m 3ms/step - loss: 8.6961 - mae: 2.5360 - val_loss: 7.8978 - val_mae: 2.4281\n",
      "Epoch 14/30\n",
      "\u001b[1m25/25\u001b[0m \u001b[32m━━━━━━━━━━━━━━━━━━━━\u001b[0m\u001b[37m\u001b[0m \u001b[1m0s\u001b[0m 5ms/step - loss: 8.2404 - mae: 2.4677 - val_loss: 8.3233 - val_mae: 2.4718\n",
      "Epoch 15/30\n",
      "\u001b[1m25/25\u001b[0m \u001b[32m━━━━━━━━━━━━━━━━━━━━\u001b[0m\u001b[37m\u001b[0m \u001b[1m0s\u001b[0m 3ms/step - loss: 8.7172 - mae: 2.5153 - val_loss: 7.6564 - val_mae: 2.4065\n",
      "Epoch 16/30\n",
      "\u001b[1m25/25\u001b[0m \u001b[32m━━━━━━━━━━━━━━━━━━━━\u001b[0m\u001b[37m\u001b[0m \u001b[1m0s\u001b[0m 3ms/step - loss: 8.9517 - mae: 2.5662 - val_loss: 7.5478 - val_mae: 2.4008\n",
      "Epoch 17/30\n",
      "\u001b[1m25/25\u001b[0m \u001b[32m━━━━━━━━━━━━━━━━━━━━\u001b[0m\u001b[37m\u001b[0m \u001b[1m0s\u001b[0m 3ms/step - loss: 8.6230 - mae: 2.4870 - val_loss: 7.8349 - val_mae: 2.4241\n",
      "Epoch 18/30\n",
      "\u001b[1m25/25\u001b[0m \u001b[32m━━━━━━━━━━━━━━━━━━━━\u001b[0m\u001b[37m\u001b[0m \u001b[1m0s\u001b[0m 3ms/step - loss: 8.3797 - mae: 2.4696 - val_loss: 8.4401 - val_mae: 2.4830\n",
      "Epoch 19/30\n",
      "\u001b[1m25/25\u001b[0m \u001b[32m━━━━━━━━━━━━━━━━━━━━\u001b[0m\u001b[37m\u001b[0m \u001b[1m0s\u001b[0m 4ms/step - loss: 8.8455 - mae: 2.5514 - val_loss: 8.7179 - val_mae: 2.5134\n",
      "Epoch 20/30\n",
      "\u001b[1m25/25\u001b[0m \u001b[32m━━━━━━━━━━━━━━━━━━━━\u001b[0m\u001b[37m\u001b[0m \u001b[1m0s\u001b[0m 4ms/step - loss: 8.0123 - mae: 2.4374 - val_loss: 8.2792 - val_mae: 2.4695\n",
      "Epoch 21/30\n",
      "\u001b[1m25/25\u001b[0m \u001b[32m━━━━━━━━━━━━━━━━━━━━\u001b[0m\u001b[37m\u001b[0m \u001b[1m0s\u001b[0m 4ms/step - loss: 8.1835 - mae: 2.4588 - val_loss: 7.8066 - val_mae: 2.4245\n",
      "Epoch 22/30\n",
      "\u001b[1m25/25\u001b[0m \u001b[32m━━━━━━━━━━━━━━━━━━━━\u001b[0m\u001b[37m\u001b[0m \u001b[1m0s\u001b[0m 4ms/step - loss: 7.8618 - mae: 2.3864 - val_loss: 7.5713 - val_mae: 2.4015\n",
      "Epoch 23/30\n",
      "\u001b[1m25/25\u001b[0m \u001b[32m━━━━━━━━━━━━━━━━━━━━\u001b[0m\u001b[37m\u001b[0m \u001b[1m0s\u001b[0m 4ms/step - loss: 8.5508 - mae: 2.5059 - val_loss: 8.7805 - val_mae: 2.5111\n",
      "Epoch 24/30\n",
      "\u001b[1m25/25\u001b[0m \u001b[32m━━━━━━━━━━━━━━━━━━━━\u001b[0m\u001b[37m\u001b[0m \u001b[1m0s\u001b[0m 4ms/step - loss: 8.1914 - mae: 2.4306 - val_loss: 7.9430 - val_mae: 2.4331\n",
      "Epoch 25/30\n",
      "\u001b[1m25/25\u001b[0m \u001b[32m━━━━━━━━━━━━━━━━━━━━\u001b[0m\u001b[37m\u001b[0m \u001b[1m0s\u001b[0m 4ms/step - loss: 8.5888 - mae: 2.5358 - val_loss: 7.9290 - val_mae: 2.4331\n",
      "Epoch 26/30\n",
      "\u001b[1m25/25\u001b[0m \u001b[32m━━━━━━━━━━━━━━━━━━━━\u001b[0m\u001b[37m\u001b[0m \u001b[1m0s\u001b[0m 4ms/step - loss: 7.7389 - mae: 2.3666 - val_loss: 8.6793 - val_mae: 2.5091\n",
      "Epoch 27/30\n",
      "\u001b[1m25/25\u001b[0m \u001b[32m━━━━━━━━━━━━━━━━━━━━\u001b[0m\u001b[37m\u001b[0m \u001b[1m0s\u001b[0m 3ms/step - loss: 8.3700 - mae: 2.5003 - val_loss: 7.8845 - val_mae: 2.4288\n",
      "Epoch 28/30\n",
      "\u001b[1m25/25\u001b[0m \u001b[32m━━━━━━━━━━━━━━━━━━━━\u001b[0m\u001b[37m\u001b[0m \u001b[1m0s\u001b[0m 5ms/step - loss: 7.8381 - mae: 2.4135 - val_loss: 7.7089 - val_mae: 2.4181\n",
      "Epoch 29/30\n",
      "\u001b[1m25/25\u001b[0m \u001b[32m━━━━━━━━━━━━━━━━━━━━\u001b[0m\u001b[37m\u001b[0m \u001b[1m0s\u001b[0m 4ms/step - loss: 8.3112 - mae: 2.4732 - val_loss: 7.8601 - val_mae: 2.4289\n",
      "Epoch 30/30\n",
      "\u001b[1m25/25\u001b[0m \u001b[32m━━━━━━━━━━━━━━━━━━━━\u001b[0m\u001b[37m\u001b[0m \u001b[1m0s\u001b[0m 3ms/step - loss: 8.3237 - mae: 2.4627 - val_loss: 7.8198 - val_mae: 2.4201\n",
      "\u001b[1m7/7\u001b[0m \u001b[32m━━━━━━━━━━━━━━━━━━━━\u001b[0m\u001b[37m\u001b[0m \u001b[1m0s\u001b[0m 1ms/step - loss: 7.5442 - mae: 2.3609 \n",
      "CNN Test loss: 7.819784164428711, Test MAE: 2.4201314449310303\n"
     ]
    }
   ],
   "source": [
    "from tensorflow.keras.models import Sequential\n",
    "from tensorflow.keras.layers import Conv1D, MaxPooling1D, Flatten, Dense, Dropout\n",
    "\n",
    "# Reshape dữ liệu để phù hợp với CNN (samples, features, 1)\n",
    "X_train_cnn = X_train.reshape(X_train.shape[0], X_train.shape[1], 1)  # (1000, 3, 1)\n",
    "X_test_cnn = X_test.reshape(X_test.shape[0], X_test.shape[1], 1)  # (200, 3, 1)\n",
    "\n",
    "# Xây dựng mô hình CNN\n",
    "def create_cnn_model(input_shape):\n",
    "    model = Sequential()\n",
    "    \n",
    "    # Lớp Conv1D đầu tiên với 64 bộ lọc và kích thước bộ lọc là 1 (thử giảm kích thước bộ lọc)\n",
    "    model.add(Conv1D(64, 1, activation='relu', input_shape=input_shape))\n",
    "    \n",
    "    # Lớp MaxPooling1D để giảm kích thước\n",
    "    model.add(MaxPooling1D(1))  # Thử dùng kích thước maxpooling = 1\n",
    "    \n",
    "    # Lớp Conv1D thứ hai với 128 bộ lọc và kích thước bộ lọc là 1\n",
    "    model.add(Conv1D(128, 1, activation='relu'))\n",
    "    \n",
    "    # Lớp MaxPooling1D thứ hai để giảm kích thước\n",
    "    model.add(MaxPooling1D(1))  # Thử dùng kích thước maxpooling = 1\n",
    "    \n",
    "    # Lớp Flatten để chuyển đổi dữ liệu từ 2D thành 1D\n",
    "    model.add(Flatten())\n",
    "    \n",
    "    # Lớp Dense để thêm các lớp hoàn thiện, với 100 neuron và hàm kích hoạt ReLU\n",
    "    model.add(Dense(100, activation='relu'))\n",
    "    \n",
    "    # Dropout để tránh overfitting\n",
    "    model.add(Dropout(0.1))\n",
    "    \n",
    "    # Lớp Dense cuối cùng để dự đoán một giá trị liên tục (dùng activation='linear' cho dự đoán số thực)\n",
    "    model.add(Dense(1))  # Dự đoán một giá trị liên tục\n",
    "    \n",
    "    return model\n",
    "\n",
    "# Định nghĩa input_shape phù hợp với dữ liệu đầu vào (3 đặc trưng, 1 chiều cho mỗi đặc trưng)\n",
    "input_shape = (3, 1)  # Dữ liệu có 3 đặc trưng\n",
    "\n",
    "# Tạo mô hình CNN\n",
    "model_cnn = create_cnn_model(input_shape)\n",
    "\n",
    "# Biên dịch mô hình\n",
    "model_cnn.compile(optimizer='adam', loss='mean_squared_error', metrics=['mae'])\n",
    "\n",
    "# Huấn luyện mô hình\n",
    "model_cnn.fit(X_train_cnn, y_train, epochs=30, batch_size=32, validation_data=(X_test_cnn, y_test))\n",
    "\n",
    "# Đánh giá mô hình CNN\n",
    "loss, mae = model_cnn.evaluate(X_test_cnn, y_test)\n",
    "print(f\"CNN Test loss: {loss}, Test MAE: {mae}\")\n"
   ]
  },
  {
   "cell_type": "code",
   "execution_count": 7,
   "id": "b3b0ee18-2e60-4a87-907e-9490468e052b",
   "metadata": {
    "editable": true,
    "slideshow": {
     "slide_type": ""
    },
    "tags": []
   },
   "outputs": [
    {
     "name": "stdout",
     "output_type": "stream",
     "text": [
      "\u001b[1m1/1\u001b[0m \u001b[32m━━━━━━━━━━━━━━━━━━━━\u001b[0m\u001b[37m\u001b[0m \u001b[1m0s\u001b[0m 61ms/step\n",
      "Predictions:  [[5.243809]]\n"
     ]
    }
   ],
   "source": [
    "# Dự đoán điểm số\n",
    "prediction = model_cnn.predict(np.array([[8,7,9]]))\n",
    "print(\"Predictions: \", prediction)"
   ]
  },
  {
   "cell_type": "code",
   "execution_count": 8,
   "id": "8db54367-f248-49ee-9eb2-c1b9be5984a2",
   "metadata": {
    "editable": true,
    "slideshow": {
     "slide_type": ""
    },
    "tags": []
   },
   "outputs": [
    {
     "name": "stderr",
     "output_type": "stream",
     "text": [
      "WARNING:absl:You are saving your model as an HDF5 file via `model.save()` or `keras.saving.save_model(model)`. This file format is considered legacy. We recommend using instead the native Keras format, e.g. `model.save('my_model.keras')` or `keras.saving.save_model(model, 'my_model.keras')`. \n"
     ]
    }
   ],
   "source": [
    "# Lưu mô hình CNN dưới dạng tệp HDF5 (hoặc SavedModel)\n",
    "model_cnn.save('cuoicungdiemthi_cnn.h5')"
   ]
  },
  {
   "cell_type": "code",
   "execution_count": 9,
   "id": "9a7660c3-0f6a-4de6-9d6b-5be17135cbf0",
   "metadata": {
    "editable": true,
    "slideshow": {
     "slide_type": ""
    },
    "tags": []
   },
   "outputs": [
    {
     "name": "stdout",
     "output_type": "stream",
     "text": [
      "Epoch 1/30\n"
     ]
    },
    {
     "name": "stderr",
     "output_type": "stream",
     "text": [
      "c:\\Users\\Admin\\AppData\\Local\\Programs\\Python\\Python311\\Lib\\site-packages\\keras\\src\\layers\\rnn\\rnn.py:204: UserWarning: Do not pass an `input_shape`/`input_dim` argument to a layer. When using Sequential models, prefer using an `Input(shape)` object as the first layer in the model instead.\n",
      "  super().__init__(**kwargs)\n"
     ]
    },
    {
     "name": "stdout",
     "output_type": "stream",
     "text": [
      "\u001b[1m25/25\u001b[0m \u001b[32m━━━━━━━━━━━━━━━━━━━━\u001b[0m\u001b[37m\u001b[0m \u001b[1m4s\u001b[0m 21ms/step - loss: 25.1928 - mae: 4.1730 - val_loss: 10.3267 - val_mae: 2.6626\n",
      "Epoch 2/30\n",
      "\u001b[1m25/25\u001b[0m \u001b[32m━━━━━━━━━━━━━━━━━━━━\u001b[0m\u001b[37m\u001b[0m \u001b[1m0s\u001b[0m 4ms/step - loss: 13.1987 - mae: 3.0134 - val_loss: 10.1988 - val_mae: 2.6644\n",
      "Epoch 3/30\n",
      "\u001b[1m25/25\u001b[0m \u001b[32m━━━━━━━━━━━━━━━━━━━━\u001b[0m\u001b[37m\u001b[0m \u001b[1m0s\u001b[0m 5ms/step - loss: 11.6222 - mae: 2.8378 - val_loss: 10.2346 - val_mae: 2.6703\n",
      "Epoch 4/30\n",
      "\u001b[1m25/25\u001b[0m \u001b[32m━━━━━━━━━━━━━━━━━━━━\u001b[0m\u001b[37m\u001b[0m \u001b[1m0s\u001b[0m 4ms/step - loss: 11.6251 - mae: 2.8469 - val_loss: 9.0660 - val_mae: 2.5439\n",
      "Epoch 5/30\n",
      "\u001b[1m25/25\u001b[0m \u001b[32m━━━━━━━━━━━━━━━━━━━━\u001b[0m\u001b[37m\u001b[0m \u001b[1m0s\u001b[0m 4ms/step - loss: 10.5398 - mae: 2.7385 - val_loss: 8.7214 - val_mae: 2.5115\n",
      "Epoch 6/30\n",
      "\u001b[1m25/25\u001b[0m \u001b[32m━━━━━━━━━━━━━━━━━━━━\u001b[0m\u001b[37m\u001b[0m \u001b[1m0s\u001b[0m 4ms/step - loss: 9.7493 - mae: 2.6468 - val_loss: 7.9408 - val_mae: 2.4342\n",
      "Epoch 7/30\n",
      "\u001b[1m25/25\u001b[0m \u001b[32m━━━━━━━━━━━━━━━━━━━━\u001b[0m\u001b[37m\u001b[0m \u001b[1m0s\u001b[0m 4ms/step - loss: 9.0966 - mae: 2.5846 - val_loss: 7.8299 - val_mae: 2.4291\n",
      "Epoch 8/30\n",
      "\u001b[1m25/25\u001b[0m \u001b[32m━━━━━━━━━━━━━━━━━━━━\u001b[0m\u001b[37m\u001b[0m \u001b[1m0s\u001b[0m 4ms/step - loss: 8.9807 - mae: 2.5375 - val_loss: 7.8997 - val_mae: 2.4351\n",
      "Epoch 9/30\n",
      "\u001b[1m25/25\u001b[0m \u001b[32m━━━━━━━━━━━━━━━━━━━━\u001b[0m\u001b[37m\u001b[0m \u001b[1m0s\u001b[0m 4ms/step - loss: 8.3791 - mae: 2.4824 - val_loss: 7.5119 - val_mae: 2.3991\n",
      "Epoch 10/30\n",
      "\u001b[1m25/25\u001b[0m \u001b[32m━━━━━━━━━━━━━━━━━━━━\u001b[0m\u001b[37m\u001b[0m \u001b[1m0s\u001b[0m 4ms/step - loss: 9.1540 - mae: 2.5865 - val_loss: 8.3779 - val_mae: 2.4823\n",
      "Epoch 11/30\n",
      "\u001b[1m25/25\u001b[0m \u001b[32m━━━━━━━━━━━━━━━━━━━━\u001b[0m\u001b[37m\u001b[0m \u001b[1m0s\u001b[0m 4ms/step - loss: 8.5495 - mae: 2.4849 - val_loss: 8.1406 - val_mae: 2.4556\n",
      "Epoch 12/30\n",
      "\u001b[1m25/25\u001b[0m \u001b[32m━━━━━━━━━━━━━━━━━━━━\u001b[0m\u001b[37m\u001b[0m \u001b[1m0s\u001b[0m 4ms/step - loss: 8.4392 - mae: 2.4656 - val_loss: 7.5723 - val_mae: 2.4052\n",
      "Epoch 13/30\n",
      "\u001b[1m25/25\u001b[0m \u001b[32m━━━━━━━━━━━━━━━━━━━━\u001b[0m\u001b[37m\u001b[0m \u001b[1m0s\u001b[0m 5ms/step - loss: 8.9709 - mae: 2.5683 - val_loss: 8.6534 - val_mae: 2.5111\n",
      "Epoch 14/30\n",
      "\u001b[1m25/25\u001b[0m \u001b[32m━━━━━━━━━━━━━━━━━━━━\u001b[0m\u001b[37m\u001b[0m \u001b[1m0s\u001b[0m 5ms/step - loss: 8.6088 - mae: 2.4979 - val_loss: 7.5072 - val_mae: 2.3987\n",
      "Epoch 15/30\n",
      "\u001b[1m25/25\u001b[0m \u001b[32m━━━━━━━━━━━━━━━━━━━━\u001b[0m\u001b[37m\u001b[0m \u001b[1m0s\u001b[0m 4ms/step - loss: 8.9328 - mae: 2.5749 - val_loss: 8.0018 - val_mae: 2.4420\n",
      "Epoch 16/30\n",
      "\u001b[1m25/25\u001b[0m \u001b[32m━━━━━━━━━━━━━━━━━━━━\u001b[0m\u001b[37m\u001b[0m \u001b[1m0s\u001b[0m 4ms/step - loss: 8.9674 - mae: 2.5770 - val_loss: 8.6871 - val_mae: 2.5122\n",
      "Epoch 17/30\n",
      "\u001b[1m25/25\u001b[0m \u001b[32m━━━━━━━━━━━━━━━━━━━━\u001b[0m\u001b[37m\u001b[0m \u001b[1m0s\u001b[0m 4ms/step - loss: 8.4140 - mae: 2.4878 - val_loss: 7.5941 - val_mae: 2.4075\n",
      "Epoch 18/30\n",
      "\u001b[1m25/25\u001b[0m \u001b[32m━━━━━━━━━━━━━━━━━━━━\u001b[0m\u001b[37m\u001b[0m \u001b[1m0s\u001b[0m 4ms/step - loss: 8.6709 - mae: 2.5322 - val_loss: 7.6272 - val_mae: 2.4106\n",
      "Epoch 19/30\n",
      "\u001b[1m25/25\u001b[0m \u001b[32m━━━━━━━━━━━━━━━━━━━━\u001b[0m\u001b[37m\u001b[0m \u001b[1m0s\u001b[0m 4ms/step - loss: 8.4202 - mae: 2.4924 - val_loss: 8.4755 - val_mae: 2.4886\n",
      "Epoch 20/30\n",
      "\u001b[1m25/25\u001b[0m \u001b[32m━━━━━━━━━━━━━━━━━━━━\u001b[0m\u001b[37m\u001b[0m \u001b[1m0s\u001b[0m 5ms/step - loss: 8.6774 - mae: 2.5548 - val_loss: 7.5903 - val_mae: 2.4080\n",
      "Epoch 21/30\n",
      "\u001b[1m25/25\u001b[0m \u001b[32m━━━━━━━━━━━━━━━━━━━━\u001b[0m\u001b[37m\u001b[0m \u001b[1m0s\u001b[0m 5ms/step - loss: 8.5815 - mae: 2.5155 - val_loss: 7.5960 - val_mae: 2.4081\n",
      "Epoch 22/30\n",
      "\u001b[1m25/25\u001b[0m \u001b[32m━━━━━━━━━━━━━━━━━━━━\u001b[0m\u001b[37m\u001b[0m \u001b[1m0s\u001b[0m 5ms/step - loss: 8.6023 - mae: 2.5405 - val_loss: 7.5078 - val_mae: 2.3992\n",
      "Epoch 23/30\n",
      "\u001b[1m25/25\u001b[0m \u001b[32m━━━━━━━━━━━━━━━━━━━━\u001b[0m\u001b[37m\u001b[0m \u001b[1m0s\u001b[0m 6ms/step - loss: 8.4792 - mae: 2.5082 - val_loss: 7.5661 - val_mae: 2.4054\n",
      "Epoch 24/30\n",
      "\u001b[1m25/25\u001b[0m \u001b[32m━━━━━━━━━━━━━━━━━━━━\u001b[0m\u001b[37m\u001b[0m \u001b[1m0s\u001b[0m 5ms/step - loss: 8.7317 - mae: 2.5435 - val_loss: 7.6813 - val_mae: 2.4152\n",
      "Epoch 25/30\n",
      "\u001b[1m25/25\u001b[0m \u001b[32m━━━━━━━━━━━━━━━━━━━━\u001b[0m\u001b[37m\u001b[0m \u001b[1m0s\u001b[0m 5ms/step - loss: 8.5989 - mae: 2.4865 - val_loss: 7.5275 - val_mae: 2.4002\n",
      "Epoch 26/30\n",
      "\u001b[1m25/25\u001b[0m \u001b[32m━━━━━━━━━━━━━━━━━━━━\u001b[0m\u001b[37m\u001b[0m \u001b[1m0s\u001b[0m 4ms/step - loss: 8.3348 - mae: 2.4816 - val_loss: 7.6811 - val_mae: 2.4149\n",
      "Epoch 27/30\n",
      "\u001b[1m25/25\u001b[0m \u001b[32m━━━━━━━━━━━━━━━━━━━━\u001b[0m\u001b[37m\u001b[0m \u001b[1m0s\u001b[0m 4ms/step - loss: 8.4689 - mae: 2.4957 - val_loss: 7.9715 - val_mae: 2.4381\n",
      "Epoch 28/30\n",
      "\u001b[1m25/25\u001b[0m \u001b[32m━━━━━━━━━━━━━━━━━━━━\u001b[0m\u001b[37m\u001b[0m \u001b[1m0s\u001b[0m 4ms/step - loss: 8.8884 - mae: 2.5783 - val_loss: 8.3240 - val_mae: 2.4723\n",
      "Epoch 29/30\n",
      "\u001b[1m25/25\u001b[0m \u001b[32m━━━━━━━━━━━━━━━━━━━━\u001b[0m\u001b[37m\u001b[0m \u001b[1m0s\u001b[0m 5ms/step - loss: 8.8197 - mae: 2.5506 - val_loss: 7.4960 - val_mae: 2.3976\n",
      "Epoch 30/30\n",
      "\u001b[1m25/25\u001b[0m \u001b[32m━━━━━━━━━━━━━━━━━━━━\u001b[0m\u001b[37m\u001b[0m \u001b[1m0s\u001b[0m 4ms/step - loss: 8.7103 - mae: 2.5452 - val_loss: 7.5313 - val_mae: 2.3939\n",
      "\u001b[1m7/7\u001b[0m \u001b[32m━━━━━━━━━━━━━━━━━━━━\u001b[0m\u001b[37m\u001b[0m \u001b[1m0s\u001b[0m 2ms/step - loss: 7.2827 - mae: 2.3310 \n",
      "RNN Test loss: 7.53129768371582, Test MAE: 2.3938584327697754\n"
     ]
    }
   ],
   "source": [
    "from tensorflow.keras.models import Sequential\n",
    "from tensorflow.keras.layers import SimpleRNN, Dense, Dropout\n",
    "\n",
    "# Reshape dữ liệu để phù hợp với RNN (samples, time_steps, features)\n",
    "X_train_rnn = X_train.reshape(X_train.shape[0], X_train.shape[1], 1)  # (1000, 3, 1)\n",
    "X_test_rnn = X_test.reshape(X_test.shape[0], X_test.shape[1], 1)  # (200, 3, 1)\n",
    "\n",
    "# Xây dựng mô hình RNN với 7 lớp\n",
    "def create_rnn_model(input_shape):\n",
    "    model = Sequential()\n",
    "\n",
    "    # Thêm 5 lớp SimpleRNN với 64 đơn vị và hàm kích hoạt 'relu'\n",
    "    for _ in range(5):\n",
    "        model.add(SimpleRNN(64, activation='relu', return_sequences=True, input_shape=input_shape))\n",
    "\n",
    "    # Thêm 1 lớp Dropout để tránh overfitting\n",
    "    model.add(Dropout(0.1))\n",
    "    \n",
    "    # Lớp Dense để dự đoán một giá trị liên tục\n",
    "    model.add(Dense(1))  # Dự đoán một giá trị liên tục\n",
    "    \n",
    "    return model\n",
    "\n",
    "# Định nghĩa input_shape cho RNN (3 đặc trưng)\n",
    "input_shape = (3, 1)\n",
    "\n",
    "# Tạo mô hình RNN\n",
    "model_rnn = create_rnn_model(input_shape)\n",
    "\n",
    "# Biên dịch mô hình\n",
    "model_rnn.compile(optimizer='adam', loss='mean_squared_error', metrics=['mae'])\n",
    "\n",
    "# Huấn luyện mô hình RNN\n",
    "model_rnn.fit(X_train_rnn, y_train, epochs=30, batch_size=32, validation_data=(X_test_rnn, y_test))\n",
    "\n",
    "# Đánh giá mô hình RNN\n",
    "loss, mae = model_rnn.evaluate(X_test_rnn, y_test)\n",
    "print(f\"RNN Test loss: {loss}, Test MAE: {mae}\")\n"
   ]
  },
  {
   "cell_type": "code",
   "execution_count": 10,
   "id": "c2c8b857-a734-4b59-9fe5-c75bf8f0135c",
   "metadata": {
    "editable": true,
    "slideshow": {
     "slide_type": ""
    },
    "tags": []
   },
   "outputs": [
    {
     "name": "stdout",
     "output_type": "stream",
     "text": [
      "Epoch 1/30\n",
      "\u001b[1m25/25\u001b[0m \u001b[32m━━━━━━━━━━━━━━━━━━━━\u001b[0m\u001b[37m\u001b[0m \u001b[1m5s\u001b[0m 26ms/step - loss: 35.1853 - mae: 5.2037 - val_loss: 26.1282 - val_mae: 4.3284\n",
      "Epoch 2/30\n",
      "\u001b[1m25/25\u001b[0m \u001b[32m━━━━━━━━━━━━━━━━━━━━\u001b[0m\u001b[37m\u001b[0m \u001b[1m0s\u001b[0m 5ms/step - loss: 32.0903 - mae: 4.8487 - val_loss: 20.9504 - val_mae: 3.7646\n",
      "Epoch 3/30\n",
      "\u001b[1m25/25\u001b[0m \u001b[32m━━━━━━━━━━━━━━━━━━━━\u001b[0m\u001b[37m\u001b[0m \u001b[1m0s\u001b[0m 5ms/step - loss: 25.6799 - mae: 4.2640 - val_loss: 17.3823 - val_mae: 3.3984\n",
      "Epoch 4/30\n",
      "\u001b[1m25/25\u001b[0m \u001b[32m━━━━━━━━━━━━━━━━━━━━\u001b[0m\u001b[37m\u001b[0m \u001b[1m0s\u001b[0m 5ms/step - loss: 20.6428 - mae: 3.7460 - val_loss: 15.9292 - val_mae: 3.2353\n",
      "Epoch 5/30\n",
      "\u001b[1m25/25\u001b[0m \u001b[32m━━━━━━━━━━━━━━━━━━━━\u001b[0m\u001b[37m\u001b[0m \u001b[1m0s\u001b[0m 5ms/step - loss: 18.9408 - mae: 3.5744 - val_loss: 12.5452 - val_mae: 2.8892\n",
      "Epoch 6/30\n",
      "\u001b[1m25/25\u001b[0m \u001b[32m━━━━━━━━━━━━━━━━━━━━\u001b[0m\u001b[37m\u001b[0m \u001b[1m0s\u001b[0m 5ms/step - loss: 14.4765 - mae: 3.1332 - val_loss: 10.2103 - val_mae: 2.6498\n",
      "Epoch 7/30\n",
      "\u001b[1m25/25\u001b[0m \u001b[32m━━━━━━━━━━━━━━━━━━━━\u001b[0m\u001b[37m\u001b[0m \u001b[1m0s\u001b[0m 5ms/step - loss: 12.4585 - mae: 2.9388 - val_loss: 8.5480 - val_mae: 2.4886\n",
      "Epoch 8/30\n",
      "\u001b[1m25/25\u001b[0m \u001b[32m━━━━━━━━━━━━━━━━━━━━\u001b[0m\u001b[37m\u001b[0m \u001b[1m0s\u001b[0m 5ms/step - loss: 9.6756 - mae: 2.6366 - val_loss: 9.3011 - val_mae: 2.5721\n",
      "Epoch 9/30\n",
      "\u001b[1m25/25\u001b[0m \u001b[32m━━━━━━━━━━━━━━━━━━━━\u001b[0m\u001b[37m\u001b[0m \u001b[1m0s\u001b[0m 5ms/step - loss: 9.1900 - mae: 2.5814 - val_loss: 8.1811 - val_mae: 2.4565\n",
      "Epoch 10/30\n",
      "\u001b[1m25/25\u001b[0m \u001b[32m━━━━━━━━━━━━━━━━━━━━\u001b[0m\u001b[37m\u001b[0m \u001b[1m0s\u001b[0m 7ms/step - loss: 8.7693 - mae: 2.5331 - val_loss: 7.8014 - val_mae: 2.4216\n",
      "Epoch 11/30\n",
      "\u001b[1m25/25\u001b[0m \u001b[32m━━━━━━━━━━━━━━━━━━━━\u001b[0m\u001b[37m\u001b[0m \u001b[1m0s\u001b[0m 6ms/step - loss: 8.8013 - mae: 2.5491 - val_loss: 8.1584 - val_mae: 2.4550\n",
      "Epoch 12/30\n",
      "\u001b[1m25/25\u001b[0m \u001b[32m━━━━━━━━━━━━━━━━━━━━\u001b[0m\u001b[37m\u001b[0m \u001b[1m0s\u001b[0m 5ms/step - loss: 8.7724 - mae: 2.5746 - val_loss: 7.8202 - val_mae: 2.4246\n",
      "Epoch 13/30\n",
      "\u001b[1m25/25\u001b[0m \u001b[32m━━━━━━━━━━━━━━━━━━━━\u001b[0m\u001b[37m\u001b[0m \u001b[1m0s\u001b[0m 5ms/step - loss: 8.0892 - mae: 2.4188 - val_loss: 7.4753 - val_mae: 2.3926\n",
      "Epoch 14/30\n",
      "\u001b[1m25/25\u001b[0m \u001b[32m━━━━━━━━━━━━━━━━━━━━\u001b[0m\u001b[37m\u001b[0m \u001b[1m0s\u001b[0m 5ms/step - loss: 8.5980 - mae: 2.5192 - val_loss: 7.5407 - val_mae: 2.4011\n",
      "Epoch 15/30\n",
      "\u001b[1m25/25\u001b[0m \u001b[32m━━━━━━━━━━━━━━━━━━━━\u001b[0m\u001b[37m\u001b[0m \u001b[1m0s\u001b[0m 6ms/step - loss: 8.7048 - mae: 2.5624 - val_loss: 8.4928 - val_mae: 2.4901\n",
      "Epoch 16/30\n",
      "\u001b[1m25/25\u001b[0m \u001b[32m━━━━━━━━━━━━━━━━━━━━\u001b[0m\u001b[37m\u001b[0m \u001b[1m0s\u001b[0m 6ms/step - loss: 9.4844 - mae: 2.6871 - val_loss: 8.0302 - val_mae: 2.4426\n",
      "Epoch 17/30\n",
      "\u001b[1m25/25\u001b[0m \u001b[32m━━━━━━━━━━━━━━━━━━━━\u001b[0m\u001b[37m\u001b[0m \u001b[1m0s\u001b[0m 6ms/step - loss: 8.4466 - mae: 2.4784 - val_loss: 7.7805 - val_mae: 2.4215\n",
      "Epoch 18/30\n",
      "\u001b[1m25/25\u001b[0m \u001b[32m━━━━━━━━━━━━━━━━━━━━\u001b[0m\u001b[37m\u001b[0m \u001b[1m0s\u001b[0m 7ms/step - loss: 8.3547 - mae: 2.4939 - val_loss: 7.7148 - val_mae: 2.4165\n",
      "Epoch 19/30\n",
      "\u001b[1m25/25\u001b[0m \u001b[32m━━━━━━━━━━━━━━━━━━━━\u001b[0m\u001b[37m\u001b[0m \u001b[1m0s\u001b[0m 6ms/step - loss: 8.6856 - mae: 2.5346 - val_loss: 7.7100 - val_mae: 2.4163\n",
      "Epoch 20/30\n",
      "\u001b[1m25/25\u001b[0m \u001b[32m━━━━━━━━━━━━━━━━━━━━\u001b[0m\u001b[37m\u001b[0m \u001b[1m0s\u001b[0m 6ms/step - loss: 8.8377 - mae: 2.5545 - val_loss: 7.4808 - val_mae: 2.3956\n",
      "Epoch 21/30\n",
      "\u001b[1m25/25\u001b[0m \u001b[32m━━━━━━━━━━━━━━━━━━━━\u001b[0m\u001b[37m\u001b[0m \u001b[1m0s\u001b[0m 6ms/step - loss: 8.9479 - mae: 2.5787 - val_loss: 7.6137 - val_mae: 2.4090\n",
      "Epoch 22/30\n",
      "\u001b[1m25/25\u001b[0m \u001b[32m━━━━━━━━━━━━━━━━━━━━\u001b[0m\u001b[37m\u001b[0m \u001b[1m0s\u001b[0m 6ms/step - loss: 8.6253 - mae: 2.5297 - val_loss: 7.7424 - val_mae: 2.4187\n",
      "Epoch 23/30\n",
      "\u001b[1m25/25\u001b[0m \u001b[32m━━━━━━━━━━━━━━━━━━━━\u001b[0m\u001b[37m\u001b[0m \u001b[1m0s\u001b[0m 6ms/step - loss: 8.1679 - mae: 2.4466 - val_loss: 7.5418 - val_mae: 2.4030\n",
      "Epoch 24/30\n",
      "\u001b[1m25/25\u001b[0m \u001b[32m━━━━━━━━━━━━━━━━━━━━\u001b[0m\u001b[37m\u001b[0m \u001b[1m0s\u001b[0m 6ms/step - loss: 8.9160 - mae: 2.5980 - val_loss: 7.4625 - val_mae: 2.3935\n",
      "Epoch 25/30\n",
      "\u001b[1m25/25\u001b[0m \u001b[32m━━━━━━━━━━━━━━━━━━━━\u001b[0m\u001b[37m\u001b[0m \u001b[1m0s\u001b[0m 5ms/step - loss: 8.6214 - mae: 2.5507 - val_loss: 7.6809 - val_mae: 2.4143\n",
      "Epoch 26/30\n",
      "\u001b[1m25/25\u001b[0m \u001b[32m━━━━━━━━━━━━━━━━━━━━\u001b[0m\u001b[37m\u001b[0m \u001b[1m0s\u001b[0m 5ms/step - loss: 8.4008 - mae: 2.4918 - val_loss: 7.7120 - val_mae: 2.4167\n",
      "Epoch 27/30\n",
      "\u001b[1m25/25\u001b[0m \u001b[32m━━━━━━━━━━━━━━━━━━━━\u001b[0m\u001b[37m\u001b[0m \u001b[1m0s\u001b[0m 6ms/step - loss: 8.4240 - mae: 2.4736 - val_loss: 7.5029 - val_mae: 2.3989\n",
      "Epoch 28/30\n",
      "\u001b[1m25/25\u001b[0m \u001b[32m━━━━━━━━━━━━━━━━━━━━\u001b[0m\u001b[37m\u001b[0m \u001b[1m0s\u001b[0m 6ms/step - loss: 8.1314 - mae: 2.4725 - val_loss: 8.6027 - val_mae: 2.5019\n",
      "Epoch 29/30\n",
      "\u001b[1m25/25\u001b[0m \u001b[32m━━━━━━━━━━━━━━━━━━━━\u001b[0m\u001b[37m\u001b[0m \u001b[1m0s\u001b[0m 8ms/step - loss: 8.4987 - mae: 2.4903 - val_loss: 7.7467 - val_mae: 2.4192\n",
      "Epoch 30/30\n",
      "\u001b[1m25/25\u001b[0m \u001b[32m━━━━━━━━━━━━━━━━━━━━\u001b[0m\u001b[37m\u001b[0m \u001b[1m0s\u001b[0m 12ms/step - loss: 8.2637 - mae: 2.4844 - val_loss: 7.5654 - val_mae: 2.4052\n",
      "\u001b[1m7/7\u001b[0m \u001b[32m━━━━━━━━━━━━━━━━━━━━\u001b[0m\u001b[37m\u001b[0m \u001b[1m0s\u001b[0m 2ms/step - loss: 7.3100 - mae: 2.3482 \n",
      "LSTM Test loss: 7.565377235412598, Test MAE: 2.4052441120147705\n"
     ]
    }
   ],
   "source": [
    "from tensorflow.keras.models import Sequential\n",
    "from tensorflow.keras.layers import LSTM, Dense, Dropout\n",
    "\n",
    "# Reshape dữ liệu để phù hợp với LSTM (samples, time_steps, features)\n",
    "X_train_lstm = X_train.reshape(X_train.shape[0], X_train.shape[1], 1)  # (1000, 3, 1)\n",
    "X_test_lstm = X_test.reshape(X_test.shape[0], X_test.shape[1], 1)  # (200, 3, 1)\n",
    "\n",
    "# Xây dựng mô hình LSTM với 7 lớp\n",
    "def create_lstm_model(input_shape):\n",
    "    model = Sequential()\n",
    "\n",
    "    # Thêm 5 lớp LSTM với 64 đơn vị và hàm kích hoạt 'relu'\n",
    "    for _ in range(5):\n",
    "        model.add(LSTM(64, activation='relu', return_sequences=True, input_shape=input_shape))\n",
    "    \n",
    "    # Thêm 1 lớp Dropout để tránh overfitting\n",
    "    model.add(Dropout(0.1))\n",
    "    \n",
    "    # Lớp Dense để dự đoán một giá trị liên tục\n",
    "    model.add(Dense(1))  # Dự đoán một giá trị liên tục\n",
    "    \n",
    "    return model\n",
    "\n",
    "# Định nghĩa input_shape cho LSTM (3 đặc trưng)\n",
    "input_shape = (3, 1)\n",
    "\n",
    "# Tạo mô hình LSTM\n",
    "model_lstm = create_lstm_model(input_shape)\n",
    "\n",
    "# Biên dịch mô hình\n",
    "model_lstm.compile(optimizer='adam', loss='mean_squared_error', metrics=['mae'])\n",
    "\n",
    "# Huấn luyện mô hình LSTM\n",
    "model_lstm.fit(X_train_lstm, y_train, epochs=30, batch_size=32, validation_data=(X_test_lstm, y_test))\n",
    "\n",
    "# Đánh giá mô hình LSTM\n",
    "loss, mae = model_lstm.evaluate(X_test_lstm, y_test)\n",
    "print(f\"LSTM Test loss: {loss}, Test MAE: {mae}\")\n"
   ]
  },
  {
   "cell_type": "code",
   "execution_count": 11,
   "id": "d36571ba-e4ec-4235-bb4d-dd1aa56c3140",
   "metadata": {
    "editable": true,
    "slideshow": {
     "slide_type": ""
    },
    "tags": []
   },
   "outputs": [
    {
     "name": "stdout",
     "output_type": "stream",
     "text": [
      "\u001b[1m1/1\u001b[0m \u001b[32m━━━━━━━━━━━━━━━━━━━━\u001b[0m\u001b[37m\u001b[0m \u001b[1m0s\u001b[0m 337ms/step\n",
      "Predictions:  4.187786\n",
      "\u001b[1m1/1\u001b[0m \u001b[32m━━━━━━━━━━━━━━━━━━━━\u001b[0m\u001b[37m\u001b[0m \u001b[1m0s\u001b[0m 421ms/step\n",
      "Predictions:  4.8062453\n"
     ]
    }
   ],
   "source": [
    "# Dự đoán điểm số\n",
    "prediction = model_rnn.predict(np.array([[8,7,9]]))\n",
    "print(\"Predictions: \", prediction[0][2][0])\n",
    "# Dự đoán điểm số\n",
    "prediction = model_lstm.predict(np.array([[8,7,9]]))\n",
    "print(\"Predictions: \", prediction[0,2,0])"
   ]
  },
  {
   "cell_type": "code",
   "execution_count": 12,
   "id": "864dcec5-9c05-4e6a-b49a-e621a03e6c7e",
   "metadata": {
    "editable": true,
    "slideshow": {
     "slide_type": ""
    },
    "tags": []
   },
   "outputs": [
    {
     "name": "stderr",
     "output_type": "stream",
     "text": [
      "WARNING:absl:You are saving your model as an HDF5 file via `model.save()` or `keras.saving.save_model(model)`. This file format is considered legacy. We recommend using instead the native Keras format, e.g. `model.save('my_model.keras')` or `keras.saving.save_model(model, 'my_model.keras')`. \n"
     ]
    }
   ],
   "source": [
    "# Lưu mô hình CNN dưới dạng tệp HDF5 (hoặc SavedModel)\n",
    "model_rnn.save('cuoicungdiemthi_rnn.h5')\n"
   ]
  },
  {
   "cell_type": "code",
   "execution_count": 13,
   "id": "25bb51a9-6b0d-43b6-b6bb-bf8f20f3f0c8",
   "metadata": {
    "editable": true,
    "slideshow": {
     "slide_type": ""
    },
    "tags": []
   },
   "outputs": [
    {
     "name": "stderr",
     "output_type": "stream",
     "text": [
      "WARNING:absl:You are saving your model as an HDF5 file via `model.save()` or `keras.saving.save_model(model)`. This file format is considered legacy. We recommend using instead the native Keras format, e.g. `model.save('my_model.keras')` or `keras.saving.save_model(model, 'my_model.keras')`. \n"
     ]
    }
   ],
   "source": [
    "# Lưu mô hình CNN dưới dạng tệp HDF5 (hoặc SavedModel)\n",
    "model_lstm.save('cuoicungdiemthi_ltsm.h5')\n"
   ]
  },
  {
   "cell_type": "code",
   "execution_count": null,
   "id": "d89bceff-fe62-43d5-9e01-47682c3f9a63",
   "metadata": {
    "editable": true,
    "slideshow": {
     "slide_type": ""
    },
    "tags": []
   },
   "outputs": [],
   "source": []
  }
 ],
 "metadata": {
  "kernelspec": {
   "display_name": "Python 3",
   "language": "python",
   "name": "python3"
  },
  "language_info": {
   "codemirror_mode": {
    "name": "ipython",
    "version": 3
   },
   "file_extension": ".py",
   "mimetype": "text/x-python",
   "name": "python",
   "nbconvert_exporter": "python",
   "pygments_lexer": "ipython3",
   "version": "3.11.4"
  }
 },
 "nbformat": 4,
 "nbformat_minor": 5
}
